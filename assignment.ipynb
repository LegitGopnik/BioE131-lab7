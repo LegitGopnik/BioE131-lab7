{
 "cells": [
  {
   "cell_type": "markdown",
   "metadata": {},
   "source": [
    "# Overview and references \n",
    "\n",
    "You will download some sequences, import them into this notebook, analyze them, \n",
    "and plot the results. You should be able to complete this task using the lab slides as a reference, \n",
    "along with the resources listed below.\n",
    "\n",
    "Please be sure to follow the standard submission workflow (checklist at end of notebook).\n",
    "\n",
    "\n",
    "## References\n",
    "\n",
    "Matplotlib \n",
    "\n",
    "1. https://matplotlib.org/users/pyplot_tutorial.html \n",
    "2. https://matplotlib.org/examples/statistics/boxplot_demo.html\n",
    "3. https://matplotlib.org/examples/statistics/histogram_demo_features.html\n",
    "\n",
    "BioPython\n",
    "\n",
    "1. https://biopython.org/wiki/SeqIO \n",
    "2. https://biopython.org/wiki/Phylo \n",
    "3. https://biopython.org/DIST/docs/api/Bio.Align.MultipleSeqAlignment-class.html\n"
   ]
  },
  {
   "cell_type": "markdown",
   "metadata": {},
   "source": [
    "# Package installation"
   ]
  },
  {
   "cell_type": "markdown",
   "metadata": {},
   "source": [
    "First, let's install the packages we need for the lab. Recall, the `!` before a command runs the command in the terminal."
   ]
  },
  {
   "cell_type": "code",
   "execution_count": 1,
   "metadata": {},
   "outputs": [
    {
     "name": "stdout",
     "output_type": "stream",
     "text": [
      "Collecting package metadata (current_repodata.json): done\n",
      "Solving environment: done\n",
      "\n",
      "\n",
      "==> WARNING: A newer version of conda exists. <==\n",
      "  current version: 4.10.3\n",
      "  latest version: 22.9.0\n",
      "\n",
      "Please update conda by running\n",
      "\n",
      "    $ conda update -n base conda\n",
      "\n",
      "\n",
      "\n",
      "## Package Plan ##\n",
      "\n",
      "  environment location: /opt/conda\n",
      "\n",
      "  added / updated specs:\n",
      "    - biopython\n",
      "    - fasttree\n",
      "    - muscle\n",
      "\n",
      "\n",
      "The following packages will be downloaded:\n",
      "\n",
      "    package                    |            build\n",
      "    ---------------------------|-----------------\n",
      "    biopython-1.79             |   py39hb9d737c_2         2.6 MB  conda-forge\n",
      "    ca-certificates-2022.9.24  |       ha878542_0         150 KB  conda-forge\n",
      "    certifi-2022.9.24          |     pyhd8ed1ab_0         155 KB  conda-forge\n",
      "    fasttree-2.1.11            |       hec16e2b_1         252 KB  bioconda\n",
      "    muscle-5.1                 |       h9f5acd7_1         301 KB  bioconda\n",
      "    openssl-1.1.1q             |       h166bdaf_1         2.1 MB  conda-forge\n",
      "    ------------------------------------------------------------\n",
      "                                           Total:         5.6 MB\n",
      "\n",
      "The following NEW packages will be INSTALLED:\n",
      "\n",
      "  biopython          conda-forge/linux-64::biopython-1.79-py39hb9d737c_2\n",
      "  fasttree           bioconda/linux-64::fasttree-2.1.11-hec16e2b_1\n",
      "  muscle             bioconda/linux-64::muscle-5.1-h9f5acd7_1\n",
      "\n",
      "The following packages will be UPDATED:\n",
      "\n",
      "  ca-certificates                      2021.10.8-ha878542_0 --> 2022.9.24-ha878542_0\n",
      "  certifi            conda-forge/linux-64::certifi-2021.10~ --> conda-forge/noarch::certifi-2022.9.24-pyhd8ed1ab_0\n",
      "  openssl                                 1.1.1q-h166bdaf_0 --> 1.1.1q-h166bdaf_1\n",
      "\n",
      "\n",
      "\n",
      "Downloading and Extracting Packages\n",
      "ca-certificates-2022 | 150 KB    | ##################################### | 100% \n",
      "biopython-1.79       | 2.6 MB    | ##################################### | 100% \n",
      "openssl-1.1.1q       | 2.1 MB    | ##################################### | 100% \n",
      "muscle-5.1           | 301 KB    | ##################################### | 100% \n",
      "fasttree-2.1.11      | 252 KB    | ##################################### | 100% \n",
      "certifi-2022.9.24    | 155 KB    | ##################################### | 100% \n",
      "Preparing transaction: done\n",
      "Verifying transaction: done\n",
      "Executing transaction: done\n"
     ]
    }
   ],
   "source": [
    "!conda config --add channels bioconda\n",
    "!conda install -y biopython muscle fasttree "
   ]
  },
  {
   "cell_type": "markdown",
   "metadata": {},
   "source": [
    "# Background"
   ]
  },
  {
   "cell_type": "markdown",
   "metadata": {},
   "source": [
    "Your PI has given you a set of DNA sequences and told you they are related. It’s not clear \n",
    "whether they are from the same taxon (paralogs), different taxa (orthologs), or perhaps a \n",
    "combination of the two. Perhaps they have some, but not all, domains in common (partial \n",
    "homology). What are some ways we can analyze them and figure out what their relationship is? \n",
    "What are some properties of DNA sequences, and how can we compare them to each other? \n",
    "\n",
    "In this lab, we will use the file `seqs.fa` that is contained in your cloned repository."
   ]
  },
  {
   "cell_type": "markdown",
   "metadata": {},
   "source": [
    "# 1. Generating a phylogenetic tree\n",
    "\n",
    "Sequence alignment is the bread-and-butter of comparative genomics. When two sequences \n",
    "are aligned, we assume that each column corresponds to the same position in some ancestral \n",
    "sequence. Any indels or point mutations that occurred over evolutionary time then become \n",
    "apparent. Columns where the sequence has not changed show us which positions are \n",
    "conserved. Columns with differences show us where and how sequences have evolved since \n",
    "the most recent common ancestor.\n",
    "\n",
    "We will cover this in greater detail later in the semester, but for now, it’s safe to consider a \n",
    "sequence aligner as a “black box.” In its simplest form, two unaligned sequences go in, and two \n",
    "aligned sequences come out. All the aligner really does is insert gaps (dashes, “-“) such that \n",
    "some arbitrary scoring function is maximized. Consider the following example:\n",
    "\n",
    "```\n",
    "Seq1 ATGATTAAG \n",
    "     ||     | \n",
    "Seq2 ATTGGCTAAG \n",
    "```\n",
    "\n",
    "The sequences, with no gaps and beginning at the first column, match at only three positions. \n",
    "By eye, it looks like those two TAAG blocks at the end ought to match up, right? Recall that \n",
    "we’re trying to infer which parts of the sequence were present in the common ancestor of both \n",
    "Seq1 and Seq2, so we can infer which parts of the sequence have changed.\n",
    "\n",
    "```\n",
    "Seq1 AT-GATTAAG \n",
    "     || |  |||| \n",
    "Seq2 ATTGGCTAAG\n",
    "```\n",
    "\n",
    "By inserting a gap in Seq1, we now have seven matching positions. We can now infer that there \n",
    "was an indel in column 3 (i.e., a T was either inserted in Seq2 or deleted from Seq1—note that \n",
    "we can’t distinguish between these two possibilities without more data). It also looks like there \n",
    "may have been two transitions (i.e., A<-->G or C<-->T) in columns 5 and 6—note that we don’t \n",
    "know the directionality of these changes, again, without more data. \n",
    "\n",
    "\n",
    "What if we have many sequences, rather than just two? Can we align those to each other? Yes, \n",
    "of course! The result is called a multiple sequence alignment (MSA). When presented with a \n",
    "bunch of related sequences to analyze, generating an MSA is a great place to start. \n",
    "\n",
    "\n",
    "There’s a fantastic tool available to perform this very task: MUSCLE. Written by Bob Edgar, it \n",
    "has been cited over 22,000 times. If you’re ever wondering how to get your citation count up, \n",
    "writing some simple tool that everyone will use is definitely the way to go.\n",
    "\n",
    "Now let's run muscle."
   ]
  },
  {
   "cell_type": "code",
   "execution_count": 2,
   "metadata": {},
   "outputs": [
    {
     "name": "stdout",
     "output_type": "stream",
     "text": [
      "\n",
      "muscle 5.1.linux64 []  53.5Gb RAM, 8 cores\n",
      "Built Feb 24 2022 03:16:15\n",
      "(C) Copyright 2004-2021 Robert C. Edgar.\n",
      "https://drive5.com\n",
      "\n",
      "Input: 48 seqs, length avg 2210 max 2217\n",
      "\n",
      "00:00 8.5Mb   100.0% Derep 47 uniques, 0 dupes\n",
      "00:00 10Mb   CPU has 8 cores, running 8 threads                    \n",
      "00:48 40Mb    100.0% UCLUST 48 seqs EE<0.01, 3 centroids, 44 members\n",
      "00:50 568Mb   100.0% UCLUST 3 seqs EE<0.30, 1 centroids, 1 members  \n",
      "00:51 568Mb   100.0% Make cluster MFAs                            \n",
      "1 clusters pass 1                     \n",
      "1 clusters pass 2\n",
      "00:51 568Mb  \n",
      "00:51 568Mb  Align cluster 1 / 1 (3 seqs)\n",
      "00:51 568Mb  \n",
      "00:51 961Mb   100.0% Calc posteriors\n",
      "00:52 568Mb   100.0% Consistency (1/2)\n",
      "00:52 568Mb   100.0% Consistency (2/2)\n",
      "00:52 568Mb   100.0% UPGMA5           \n",
      "00:54 583Mb   100.0% Refining\n",
      "00:54 583Mb   100.0% Consensus sequences\n"
     ]
    }
   ],
   "source": [
    "!muscle -super5 seqs.fa -output seqs.aligned.fa"
   ]
  },
  {
   "cell_type": "markdown",
   "metadata": {},
   "source": [
    "## 1.1"
   ]
  },
  {
   "cell_type": "markdown",
   "metadata": {},
   "source": [
    "Examine the contents of the input and output of this command. What do \n",
    "you notice?"
   ]
  },
  {
   "cell_type": "markdown",
   "metadata": {},
   "source": [
    "## 1.1 Answer"
   ]
  },
  {
   "cell_type": "markdown",
   "metadata": {},
   "source": [
    "*The input is the 48 sequences. The output has 48 sequences with gaps inserted between them. These gaps maximize the alignment scores between all the sequences together.*"
   ]
  },
  {
   "cell_type": "markdown",
   "metadata": {},
   "source": [
    "We will go into more detail on generating trees later in the semester, but for now, you can use \n",
    "Morgan Price’s excellent tool FastTree to take your multiple alignment and turn it into a \n",
    "Newick-formatted tree. "
   ]
  },
  {
   "cell_type": "code",
   "execution_count": 3,
   "metadata": {},
   "outputs": [
    {
     "name": "stdout",
     "output_type": "stream",
     "text": [
      "FastTree Version 2.1.11 Double precision (No SSE3)\n",
      "Alignment: standard input\n",
      "Nucleotide distances: Jukes-Cantor Joins: balanced Support: SH-like 1000\n",
      "Search: Normal +NNI +SPR (2 rounds range 10) +ML-NNI opt-each=1\n",
      "TopHits: 1.00*sqrtN close=default refresh=0.80\n",
      "ML Model: Jukes-Cantor, CAT approximation with 20 rate categories\n",
      "Initial topology in 0.05 seconds\n",
      "Refining topology: 22 rounds ME-NNIs, 2 rounds ME-SPRs, 11 rounds ML-NNIs\n",
      "Total branch-length 0.966 after 0.61 sec2, 1 of 46 splits   \n",
      "ML-NNI round 1: LogLk = -15694.781 NNIs 8 max delta 7.33 Time 0.93\n",
      "Switched to using 20 rate categories (CAT approximation)1 of 20   \n",
      "Rate categories were divided by 0.745 so that average rate = 1.0\n",
      "CAT-based log-likelihoods may not be comparable across runs\n",
      "Use -gamma for approximate but comparable Gamma(20) log-likelihoods\n",
      "ML-NNI round 2: LogLk = -14307.773 NNIs 0 max delta 0.00 Time 1.08\n",
      "Turning off heuristics for final round of ML NNIs (converged)\n",
      "ML-NNI round 3: LogLk = -14307.517 NNIs 0 max delta 0.00 Time 1.30 (final)\n",
      "Optimize all lengths: LogLk = -14307.515 Time 1.36\n",
      "Total time: 1.74 seconds Unique: 48/48 Bad splits: 0/45\n"
     ]
    }
   ],
   "source": [
    "!fasttree -nt < seqs.aligned.fa > tree.nwk"
   ]
  },
  {
   "cell_type": "markdown",
   "metadata": {},
   "source": [
    "## 1.2\n",
    "\n",
    "Visualize your tree using Bio.Phylo. You will notice that there is some clustered structure in the tree."
   ]
  },
  {
   "cell_type": "code",
   "execution_count": 9,
   "metadata": {},
   "outputs": [
    {
     "name": "stdout",
     "output_type": "stream",
     "text": [
      "Tree(rooted=False, weight=1.0)\n",
      "    Clade()\n",
      "        Clade(branch_length=5e-09, confidence=0.284)\n",
      "            Clade(branch_length=0.004075671, name='hu.39')\n",
      "            Clade(branch_length=0.001806696, name='rh.52')\n",
      "        Clade(branch_length=0.001355567, name='rh.53')\n",
      "        Clade(branch_length=6e-09, confidence=0.879)\n",
      "            Clade(branch_length=5e-09, confidence=0.909)\n",
      "                Clade(branch_length=5e-09, confidence=0.896)\n",
      "                    Clade(branch_length=0.0022597, name='rh.61')\n",
      "                    Clade(branch_length=0.001714713, confidence=0.315)\n",
      "                        Clade(branch_length=0.007412228, name='rh.58')\n",
      "                        Clade(branch_length=0.030862446, confidence=1.0)\n",
      "                            Clade(branch_length=0.007793008, confidence=0.724)\n",
      "                                Clade(branch_length=0.035295497, confidence=1.0)\n",
      "                                    Clade(branch_length=0.027635947, confidence=0.995)\n",
      "                                        Clade(branch_length=0.042300051, confidence=1.0)\n",
      "                                            Clade(branch_length=0.060488683, confidence=1.0)\n",
      "                                                Clade(branch_length=0.002767978, name='cy.3')\n",
      "                                                Clade(branch_length=6e-09, confidence=0.899)\n",
      "                                                    Clade(branch_length=6e-09, confidence=0.996)\n",
      "                                                        Clade(branch_length=0.002767198, name='cy.6')\n",
      "                                                        Clade(branch_length=0.003229942, name='cy.4')\n",
      "                                                    Clade(branch_length=5e-09, confidence=0.793)\n",
      "                                                        Clade(branch_length=0.002305113, name='cy.5')\n",
      "                                                        Clade(branch_length=0.000460292, name='rh.13')\n",
      "                                            Clade(branch_length=0.032390795, confidence=1.0)\n",
      "                                                Clade(branch_length=0.00137768, name='rh.35')\n",
      "                                                Clade(branch_length=6e-09, confidence=0.819)\n",
      "                                                    Clade(branch_length=0.00092444, name='rh.36')\n",
      "                                                    Clade(branch_length=0.001377756, name='rh.37')\n",
      "                                        Clade(branch_length=0.033500876, confidence=0.999)\n",
      "                                            Clade(branch_length=0.028269014, name='cy.2')\n",
      "                                            Clade(branch_length=0.018363245, confidence=0.959)\n",
      "                                                Clade(branch_length=0.011505492, name='rh.54')\n",
      "                                                Clade(branch_length=0.024946408, confidence=0.999)\n",
      "                                                    Clade(branch_length=0.01058386, name='rh.55')\n",
      "                                                    Clade(branch_length=0.004110428, confidence=0.964)\n",
      "                                                        Clade(branch_length=0.000449573, name='rh.48')\n",
      "                                                        Clade(branch_length=0.002724049, name='rh.62')\n",
      "                                    Clade(branch_length=0.032640967, confidence=0.035)\n",
      "                                        Clade(branch_length=0.172774236, confidence=1.0)\n",
      "                                            Clade(branch_length=0.008550969, name='hu.14')\n",
      "                                            Clade(branch_length=0.013238867, confidence=1.0)\n",
      "                                                Clade(branch_length=0.001374954, name='hu.32')\n",
      "                                                Clade(branch_length=0.001349381, name='hu.31')\n",
      "                                        Clade(branch_length=0.10186403, confidence=1.0)\n",
      "                                            Clade(branch_length=0.008081457, name='hu.43')\n",
      "                                            Clade(branch_length=0.011649583, confidence=1.0)\n",
      "                                                Clade(branch_length=0.004772434, name='hu.48')\n",
      "                                                Clade(branch_length=0.025548636, confidence=1.0)\n",
      "                                                    Clade(branch_length=0.001823129, name='hu.44')\n",
      "                                                    Clade(branch_length=0.005000925, name='hu.46')\n",
      "                                Clade(branch_length=0.01225493, confidence=0.82)\n",
      "                                    Clade(branch_length=0.033829, confidence=1.0)\n",
      "                                        Clade(branch_length=0.006092311, confidence=0.993)\n",
      "                                            Clade(branch_length=5e-09, name='rh.10')\n",
      "                                            Clade(branch_length=0.001809845, confidence=0.952)\n",
      "                                                Clade(branch_length=0.002264312, name='bb.1')\n",
      "                                                Clade(branch_length=0.001357566, name='bb.2')\n",
      "                                        Clade(branch_length=0.004690822, confidence=0.967)\n",
      "                                            Clade(branch_length=0.008062865, name='hu.17')\n",
      "                                            Clade(branch_length=0.002015456, name='hu.6')\n",
      "                                    Clade(branch_length=0.013227175, confidence=0.622)\n",
      "                                        Clade(branch_length=0.029650298, name='rh.2')\n",
      "                                        Clade(branch_length=0.035853446, confidence=1.0)\n",
      "                                            Clade(branch_length=0.0132045, name='rh.40')\n",
      "                                            Clade(branch_length=0.005252916, confidence=0.97)\n",
      "                                                Clade(branch_length=0.001362788, name='hu.67')\n",
      "                                                Clade(branch_length=0.000444723, confidence=0.752)\n",
      "                                                    Clade(branch_length=0.000903388, name='hu.37')\n",
      "                                                    Clade(branch_length=5e-09, confidence=0.916)\n",
      "                                                        Clade(branch_length=5e-09, confidence=0.954)\n",
      "                                                            Clade(branch_length=0.00090285, name='hu.40')\n",
      "                                                            Clade(branch_length=0.002261294, name='hu.66')\n",
      "                                                        Clade(branch_length=5e-09, confidence=0.899)\n",
      "                                                            Clade(branch_length=0.00044975, confidence=0.736)\n",
      "                                                                Clade(branch_length=0.001810026, name='hu.41')\n",
      "                                                                Clade(branch_length=0.00181009, name='rh.38')\n",
      "                                                            Clade(branch_length=0.001354936, name='hu.42')\n",
      "                            Clade(branch_length=0.020122382, confidence=0.785)\n",
      "                                Clade(branch_length=0.074931456, name='rh.43')\n",
      "                                Clade(branch_length=0.074525017, confidence=1.0)\n",
      "                                    Clade(branch_length=0.000915605, name='pi.2')\n",
      "                                    Clade(branch_length=0.000915494, confidence=0.854)\n",
      "                                        Clade(branch_length=0.002291486, name='pi.1')\n",
      "                                        Clade(branch_length=0.002751426, name='pi.3')\n",
      "                Clade(branch_length=0.000902877, name='rh.64')\n",
      "            Clade(branch_length=5e-09, confidence=0.679)\n",
      "                Clade(branch_length=0.001355448, name='rh.50')\n",
      "                Clade(branch_length=5e-09, confidence=0.368)\n",
      "                    Clade(branch_length=0.000570621, confidence=0.709)\n",
      "                        Clade(branch_length=0.002648104, name='rh.51')\n",
      "                        Clade(branch_length=0.003576741, name='rh.57')\n",
      "                    Clade(branch_length=0.003168377, name='rh.49')\n"
     ]
    }
   ],
   "source": [
    "# Imports\n",
    "from Bio import Phylo # Imports Bio.Phylo\n",
    "from io import StringIO # Imports StringIO for reading strings\n",
    "from matplotlib import pyplot as plt\n",
    "\n",
    "# plotting code here\n",
    "tree = Phylo.read(\"tree.nwk\", \"newick\")\n",
    "print(tree)"
   ]
  },
  {
   "cell_type": "markdown",
   "metadata": {},
   "source": [
    "For the rest of the assignment, you will use the following clusters to analyze the dataset."
   ]
  },
  {
   "cell_type": "code",
   "execution_count": 10,
   "metadata": {},
   "outputs": [],
   "source": [
    "cluster1 = [\"rh.40\", \"hu.67\", \"hu.40\", \"hu.66\", \"hu.37\", \"hu.42\", \"pi.1\", \"pi.2\", \"pi.3\", \"rh.10\", \"bb.1\", \"bb.2\", \"hu.17\", \"hu.6\", \"rh.2\"]\n",
    "cluster2 = [\"cy.3\", \"cy.6\", \"cy.4\", \"cy.5\", \"rh.13\", \"rh.35\", \"rh.36\", \"rh.37\", \"cy.2\", \"rh.54\", \"rh.55\", \"rh.48\", \"rh.62\", \"hu.43\", \"hu.48\", \"hu.44\", \"hu.46\", \"hu.14\", \"hu.31\", \"hu.32\", \"rh.43\"]\n",
    "cluster3 = [\"rh.64\", \"rh.57\", \"rh.51\", \"rh.49\", \"rh.53\", \"rh.50\", \"rh.52\", \"hu.39\"]"
   ]
  },
  {
   "cell_type": "markdown",
   "metadata": {},
   "source": [
    "# 2. Identifying sequences by BLAST"
   ]
  },
  {
   "cell_type": "markdown",
   "metadata": {},
   "source": [
    "Comparing sequences in your dataset to themselves can be highly informative. There’s also lots \n",
    "gain by comparing them to one of many large databases currently available. In this lab, we \n",
    "haven’t been told where these sequences are from—are they even from a genome? Are they \n",
    "coding (i.e., do they encode a protein) or non-coding? \n",
    " \n",
    "We could pop our `seqs.fa` file into BLAST and see what comes up, but that’s going to take a \n",
    "while. We have a lot of sequences, and going through the results for all of them is slow. Using \n",
    "the provided clusters, pick a single \n",
    "representative specimen from each. Now, load the sequences here using \n",
    "Bio.SeqIO and print the sequence of each chosen specimen to the screen. Point your web \n",
    "browser at https://blast.ncbi.nlm.nih.gov/Blast.cgi and BLAST each representative against \n",
    "`nr/nt` using default parameters. \n",
    "\n",
    "\n"
   ]
  },
  {
   "cell_type": "code",
   "execution_count": 35,
   "metadata": {},
   "outputs": [],
   "source": [
    "from Bio import SeqIO\n",
    "from Bio import Blast"
   ]
  },
  {
   "cell_type": "code",
   "execution_count": 43,
   "metadata": {},
   "outputs": [
    {
     "name": "stdout",
     "output_type": "stream",
     "text": [
      "cy.3\n",
      "atggctgccgatggttatcttccagattggctcgaggacaacctctctgagggcattcgcgagtggtgggacttgaaacctggagccccgaaacccaaag...\n",
      "rh.40\n",
      "atggctgctgacggttatcttccagattggctcgaggacaacctctctgagggcattcgcgagtggtgggacctgaaacctggagcccccaagcccaagg...\n",
      "rh.64\n",
      "atggctgccgatggttatcttccagattggctcgaggacaacctctctgagggcattcgcgagtggtgggacctgaaacctggagccccgaaacccaaag...\n"
     ]
    }
   ],
   "source": [
    "cluster_reps = [\"rh.40\", \"cy.3\", \"rh.64\"]\n",
    "\n",
    "reads = SeqIO.parse(\"seqs.fa\", \"fasta\")\n",
    "for r in reads:\n",
    "    if r.name in cluster_reps:\n",
    "        print(r.name)\n",
    "        print(r.seq[:100] + \"...\")"
   ]
  },
  {
   "cell_type": "markdown",
   "metadata": {},
   "source": [
    "## 2.1"
   ]
  },
  {
   "cell_type": "markdown",
   "metadata": {},
   "source": [
    "What are some of the most common matches for each cluster? "
   ]
  },
  {
   "cell_type": "markdown",
   "metadata": {},
   "source": [
    "### 2.1 answer"
   ]
  },
  {
   "cell_type": "markdown",
   "metadata": {},
   "source": [
    "Cluster 1:\n",
    "\n",
    "Capsid protein VP1 cap\n",
    "\n",
    "Cluster 2:\n",
    "\n",
    "Capsid protein VP1\n",
    "\n",
    "Cluster 3:\n",
    "\n",
    "Capsid protein VP1 cap"
   ]
  },
  {
   "cell_type": "markdown",
   "metadata": {},
   "source": [
    "## 2.2"
   ]
  },
  {
   "cell_type": "markdown",
   "metadata": {},
   "source": [
    "Do they all match the same gene?"
   ]
  },
  {
   "cell_type": "markdown",
   "metadata": {},
   "source": [
    "### 2.2 answer"
   ]
  },
  {
   "cell_type": "markdown",
   "metadata": {},
   "source": [
    "All clusters match the same gene, but clusters 1 and 3 match the cap while 2 does not."
   ]
  },
  {
   "cell_type": "markdown",
   "metadata": {},
   "source": [
    "## 2.3"
   ]
  },
  {
   "cell_type": "markdown",
   "metadata": {},
   "source": [
    "Are there any that definitely do not match the \n",
    "others?"
   ]
  },
  {
   "cell_type": "markdown",
   "metadata": {},
   "source": [
    "### 2.3 answer"
   ]
  },
  {
   "cell_type": "markdown",
   "metadata": {},
   "source": [
    "Cluster 2 doesn't match the others."
   ]
  },
  {
   "cell_type": "markdown",
   "metadata": {},
   "source": [
    "## 2.4"
   ]
  },
  {
   "cell_type": "markdown",
   "metadata": {},
   "source": [
    "Why might we not trust the annotations for sequences that come up in our BLAST? "
   ]
  },
  {
   "cell_type": "markdown",
   "metadata": {},
   "source": [
    "### 2.4 answer"
   ]
  },
  {
   "cell_type": "markdown",
   "metadata": {},
   "source": [
    "Similarity to sequences found on BLAST doesn't guarantee the same functionality for our gene."
   ]
  },
  {
   "attachments": {
    "Screen%20Shot%202021-08-25%20at%205.36.25%20PM.png": {
     "image/png": "[encoded data removed]"
    }
   },
   "cell_type": "markdown",
   "metadata": {},
   "source": [
    "# 3. Calculating sequences statistics for each cluster\n",
    "\n",
    "Now that you have your sequences broken out into clusters and a reasonable annotation for \n",
    "each cluster, let’s calculate some simple statistics. First, let us identify any regions that are skewed toward GC \n",
    "or AT, which might be useful for your final project later in the semester.\n",
    "\n",
    "![Screen%20Shot%202021-08-25%20at%205.36.25%20PM.png](attachment:Screen%20Shot%202021-08-25%20at%205.36.25%20PM.png)\n",
    "\n",
    "\n",
    "## 3.1\n",
    "For each position in the MSA of each cluster, \n",
    "calculate the fraction of A or T, and the fraction of \n",
    "G or C (lower case in sequence file). Note that the sum of each quantity will sum \n",
    "to 1.0. Just like in previous labs, you will organize the data in a pandas DataFrame and use the DataFrame to make the bar plot.\n",
    "\n",
    "As a first step in this process, complete the implementations of `cluster_alignment` and `build_cluster_dataframe`.\n",
    "In this part of the assignment you will use Bio.Align's `MultipleSequenceAlignment` object that can be sliced by column.\n",
    "\n",
    "See: https://biopython.org/DIST/docs/api/Bio.Align.MultipleSeqAlignment-class.html"
   ]
  },
  {
   "cell_type": "code",
   "execution_count": 47,
   "metadata": {},
   "outputs": [],
   "source": [
    "from typing import List\n",
    "from Bio import AlignIO\n",
    "from Bio.Align import MultipleSeqAlignment"
   ]
  },
  {
   "cell_type": "code",
   "execution_count": 53,
   "metadata": {},
   "outputs": [],
   "source": [
    "alignment = AlignIO.read(\"seqs.aligned.fa\", \"fasta\")"
   ]
  },
  {
   "cell_type": "code",
   "execution_count": 61,
   "metadata": {},
   "outputs": [],
   "source": [
    "def cluster_alignment(alignment: MultipleSeqAlignment, cluster: List[str]) -> MultipleSeqAlignment:\n",
    "    \"\"\"Creates a MultipleSequenceAlignment object for one cluster.\"\"\"\n",
    "    msa = MultipleSeqAlignment([])\n",
    "    for record in alignment:\n",
    "        # complete me\n",
    "        if record.name in cluster:\n",
    "            msa.append(record)\n",
    "    return msa\n",
    "\n",
    "cl1_alignment = cluster_alignment(alignment, cluster1)\n",
    "cl2_alignment = cluster_alignment(alignment, cluster2)\n",
    "cl3_alignment = cluster_alignment(alignment, cluster3)"
   ]
  },
  {
   "cell_type": "code",
   "execution_count": 90,
   "metadata": {
    "scrolled": true
   },
   "outputs": [
    {
     "data": {
      "text/plain": [
       "'ccctttctttttcct'"
      ]
     },
     "execution_count": 90,
     "metadata": {},
     "output_type": "execute_result"
    }
   ],
   "source": [
    "alignment_column = str(cl1_alignment[:,8])\n",
    "freq = {char : alignment_column.count(char) for char in (set(alignment_column + \"gcat\"))}\n",
    "alignment_column"
   ]
  },
  {
   "cell_type": "code",
   "execution_count": 91,
   "metadata": {},
   "outputs": [
    {
     "data": {
      "text/plain": [
       "{'a': 0, 't': 9, 'c': 6, 'g': 0}"
      ]
     },
     "execution_count": 91,
     "metadata": {},
     "output_type": "execute_result"
    }
   ],
   "source": [
    "freq"
   ]
  },
  {
   "cell_type": "code",
   "execution_count": 92,
   "metadata": {},
   "outputs": [
    {
     "data": {
      "text/plain": [
       "0.4"
      ]
     },
     "execution_count": 92,
     "metadata": {},
     "output_type": "execute_result"
    }
   ],
   "source": [
    "(freq['g'] + freq['c']) / len(alignment_column)"
   ]
  },
  {
   "cell_type": "code",
   "execution_count": 129,
   "metadata": {},
   "outputs": [],
   "source": [
    "import pandas as pd\n",
    "import numpy as np\n",
    "\n",
    "def build_cluster_dataframe(msa: MultipleSeqAlignment) -> pd.DataFrame:\n",
    "    \"\"\"\n",
    "    Build the cluster-specific dataframe from the MSA.\n",
    "    \n",
    "    \n",
    "    Returns\n",
    "    -------\n",
    "    A pandas DF with two columns ['%GC', '%AT'].\n",
    "    Each row sums to 1.\n",
    "    \"\"\"\n",
    "    \n",
    "    gc_freq = [0] * msa.get_alignment_length()\n",
    "    at_freq = [0] * msa.get_alignment_length()\n",
    "    for i in range(0, msa.get_alignment_length()):\n",
    "        alignment_column = str(msa[:,i]).replace('-', '')\n",
    "        # complete loop\n",
    "        freq = {char : alignment_column.count(char) for char in set(alignment_column + \"gcat\")}\n",
    "        gc_freq[i] = freq['g'] + freq['c']\n",
    "        at_freq[i] = freq['a'] + freq['t']\n",
    "        \n",
    "        \n",
    "        \n",
    "    gc_freq = np.array(gc_freq, dtype=float)\n",
    "    at_freq = np.array(at_freq, dtype=float)\n",
    "    df = pd.DataFrame()\n",
    "    # complete rest\n",
    "    df['GC'] = gc_freq\n",
    "    df['AT'] = at_freq\n",
    "    df = df.div(df.sum(axis=1), axis=0)\n",
    "    return df"
   ]
  },
  {
   "cell_type": "code",
   "execution_count": 141,
   "metadata": {},
   "outputs": [],
   "source": [
    "clus1_df = build_cluster_dataframe(cl1_alignment)"
   ]
  },
  {
   "cell_type": "code",
   "execution_count": 142,
   "metadata": {},
   "outputs": [],
   "source": [
    "clus2_df = build_cluster_dataframe(cl2_alignment)"
   ]
  },
  {
   "cell_type": "code",
   "execution_count": 143,
   "metadata": {},
   "outputs": [],
   "source": [
    "clus3_df = build_cluster_dataframe(cl3_alignment)"
   ]
  },
  {
   "cell_type": "code",
   "execution_count": 144,
   "metadata": {
    "scrolled": true
   },
   "outputs": [
    {
     "data": {
      "text/html": [
       "<div>\n",
       "<style scoped>\n",
       "    .dataframe tbody tr th:only-of-type {\n",
       "        vertical-align: middle;\n",
       "    }\n",
       "\n",
       "    .dataframe tbody tr th {\n",
       "        vertical-align: top;\n",
       "    }\n",
       "\n",
       "    .dataframe thead th {\n",
       "        text-align: right;\n",
       "    }\n",
       "</style>\n",
       "<table border=\"1\" class=\"dataframe\">\n",
       "  <thead>\n",
       "    <tr style=\"text-align: right;\">\n",
       "      <th></th>\n",
       "      <th>GC</th>\n",
       "      <th>AT</th>\n",
       "    </tr>\n",
       "  </thead>\n",
       "  <tbody>\n",
       "    <tr>\n",
       "      <th>0</th>\n",
       "      <td>0.0</td>\n",
       "      <td>1.0</td>\n",
       "    </tr>\n",
       "    <tr>\n",
       "      <th>1</th>\n",
       "      <td>0.0</td>\n",
       "      <td>1.0</td>\n",
       "    </tr>\n",
       "    <tr>\n",
       "      <th>2</th>\n",
       "      <td>1.0</td>\n",
       "      <td>0.0</td>\n",
       "    </tr>\n",
       "    <tr>\n",
       "      <th>3</th>\n",
       "      <td>1.0</td>\n",
       "      <td>0.0</td>\n",
       "    </tr>\n",
       "    <tr>\n",
       "      <th>4</th>\n",
       "      <td>1.0</td>\n",
       "      <td>0.0</td>\n",
       "    </tr>\n",
       "    <tr>\n",
       "      <th>...</th>\n",
       "      <td>...</td>\n",
       "      <td>...</td>\n",
       "    </tr>\n",
       "    <tr>\n",
       "      <th>2215</th>\n",
       "      <td>0.0</td>\n",
       "      <td>1.0</td>\n",
       "    </tr>\n",
       "    <tr>\n",
       "      <th>2216</th>\n",
       "      <td>1.0</td>\n",
       "      <td>0.0</td>\n",
       "    </tr>\n",
       "    <tr>\n",
       "      <th>2217</th>\n",
       "      <td>0.0</td>\n",
       "      <td>1.0</td>\n",
       "    </tr>\n",
       "    <tr>\n",
       "      <th>2218</th>\n",
       "      <td>0.0</td>\n",
       "      <td>1.0</td>\n",
       "    </tr>\n",
       "    <tr>\n",
       "      <th>2219</th>\n",
       "      <td>0.0</td>\n",
       "      <td>1.0</td>\n",
       "    </tr>\n",
       "  </tbody>\n",
       "</table>\n",
       "<p>2220 rows × 2 columns</p>\n",
       "</div>"
      ],
      "text/plain": [
       "       GC   AT\n",
       "0     0.0  1.0\n",
       "1     0.0  1.0\n",
       "2     1.0  0.0\n",
       "3     1.0  0.0\n",
       "4     1.0  0.0\n",
       "...   ...  ...\n",
       "2215  0.0  1.0\n",
       "2216  1.0  0.0\n",
       "2217  0.0  1.0\n",
       "2218  0.0  1.0\n",
       "2219  0.0  1.0\n",
       "\n",
       "[2220 rows x 2 columns]"
      ]
     },
     "execution_count": 144,
     "metadata": {},
     "output_type": "execute_result"
    }
   ],
   "source": [
    "clus1_df"
   ]
  },
  {
   "cell_type": "code",
   "execution_count": 145,
   "metadata": {
    "scrolled": true
   },
   "outputs": [
    {
     "data": {
      "text/html": [
       "<div>\n",
       "<style scoped>\n",
       "    .dataframe tbody tr th:only-of-type {\n",
       "        vertical-align: middle;\n",
       "    }\n",
       "\n",
       "    .dataframe tbody tr th {\n",
       "        vertical-align: top;\n",
       "    }\n",
       "\n",
       "    .dataframe thead th {\n",
       "        text-align: right;\n",
       "    }\n",
       "</style>\n",
       "<table border=\"1\" class=\"dataframe\">\n",
       "  <thead>\n",
       "    <tr style=\"text-align: right;\">\n",
       "      <th></th>\n",
       "      <th>GC</th>\n",
       "      <th>AT</th>\n",
       "    </tr>\n",
       "  </thead>\n",
       "  <tbody>\n",
       "    <tr>\n",
       "      <th>0</th>\n",
       "      <td>0.0</td>\n",
       "      <td>1.0</td>\n",
       "    </tr>\n",
       "    <tr>\n",
       "      <th>1</th>\n",
       "      <td>0.0</td>\n",
       "      <td>1.0</td>\n",
       "    </tr>\n",
       "    <tr>\n",
       "      <th>2</th>\n",
       "      <td>1.0</td>\n",
       "      <td>0.0</td>\n",
       "    </tr>\n",
       "    <tr>\n",
       "      <th>3</th>\n",
       "      <td>1.0</td>\n",
       "      <td>0.0</td>\n",
       "    </tr>\n",
       "    <tr>\n",
       "      <th>4</th>\n",
       "      <td>1.0</td>\n",
       "      <td>0.0</td>\n",
       "    </tr>\n",
       "    <tr>\n",
       "      <th>...</th>\n",
       "      <td>...</td>\n",
       "      <td>...</td>\n",
       "    </tr>\n",
       "    <tr>\n",
       "      <th>2215</th>\n",
       "      <td>0.0</td>\n",
       "      <td>1.0</td>\n",
       "    </tr>\n",
       "    <tr>\n",
       "      <th>2216</th>\n",
       "      <td>1.0</td>\n",
       "      <td>0.0</td>\n",
       "    </tr>\n",
       "    <tr>\n",
       "      <th>2217</th>\n",
       "      <td>0.0</td>\n",
       "      <td>1.0</td>\n",
       "    </tr>\n",
       "    <tr>\n",
       "      <th>2218</th>\n",
       "      <td>0.0</td>\n",
       "      <td>1.0</td>\n",
       "    </tr>\n",
       "    <tr>\n",
       "      <th>2219</th>\n",
       "      <td>0.0</td>\n",
       "      <td>1.0</td>\n",
       "    </tr>\n",
       "  </tbody>\n",
       "</table>\n",
       "<p>2220 rows × 2 columns</p>\n",
       "</div>"
      ],
      "text/plain": [
       "       GC   AT\n",
       "0     0.0  1.0\n",
       "1     0.0  1.0\n",
       "2     1.0  0.0\n",
       "3     1.0  0.0\n",
       "4     1.0  0.0\n",
       "...   ...  ...\n",
       "2215  0.0  1.0\n",
       "2216  1.0  0.0\n",
       "2217  0.0  1.0\n",
       "2218  0.0  1.0\n",
       "2219  0.0  1.0\n",
       "\n",
       "[2220 rows x 2 columns]"
      ]
     },
     "execution_count": 145,
     "metadata": {},
     "output_type": "execute_result"
    }
   ],
   "source": [
    "clus2_df"
   ]
  },
  {
   "cell_type": "code",
   "execution_count": 147,
   "metadata": {
    "scrolled": true
   },
   "outputs": [
    {
     "data": {
      "text/html": [
       "<div>\n",
       "<style scoped>\n",
       "    .dataframe tbody tr th:only-of-type {\n",
       "        vertical-align: middle;\n",
       "    }\n",
       "\n",
       "    .dataframe tbody tr th {\n",
       "        vertical-align: top;\n",
       "    }\n",
       "\n",
       "    .dataframe thead th {\n",
       "        text-align: right;\n",
       "    }\n",
       "</style>\n",
       "<table border=\"1\" class=\"dataframe\">\n",
       "  <thead>\n",
       "    <tr style=\"text-align: right;\">\n",
       "      <th></th>\n",
       "      <th>GC</th>\n",
       "      <th>AT</th>\n",
       "    </tr>\n",
       "  </thead>\n",
       "  <tbody>\n",
       "    <tr>\n",
       "      <th>0</th>\n",
       "      <td>0.000</td>\n",
       "      <td>1.000</td>\n",
       "    </tr>\n",
       "    <tr>\n",
       "      <th>1</th>\n",
       "      <td>0.000</td>\n",
       "      <td>1.000</td>\n",
       "    </tr>\n",
       "    <tr>\n",
       "      <th>2</th>\n",
       "      <td>1.000</td>\n",
       "      <td>0.000</td>\n",
       "    </tr>\n",
       "    <tr>\n",
       "      <th>3</th>\n",
       "      <td>1.000</td>\n",
       "      <td>0.000</td>\n",
       "    </tr>\n",
       "    <tr>\n",
       "      <th>4</th>\n",
       "      <td>0.875</td>\n",
       "      <td>0.125</td>\n",
       "    </tr>\n",
       "    <tr>\n",
       "      <th>...</th>\n",
       "      <td>...</td>\n",
       "      <td>...</td>\n",
       "    </tr>\n",
       "    <tr>\n",
       "      <th>2215</th>\n",
       "      <td>0.000</td>\n",
       "      <td>1.000</td>\n",
       "    </tr>\n",
       "    <tr>\n",
       "      <th>2216</th>\n",
       "      <td>1.000</td>\n",
       "      <td>0.000</td>\n",
       "    </tr>\n",
       "    <tr>\n",
       "      <th>2217</th>\n",
       "      <td>0.000</td>\n",
       "      <td>1.000</td>\n",
       "    </tr>\n",
       "    <tr>\n",
       "      <th>2218</th>\n",
       "      <td>0.000</td>\n",
       "      <td>1.000</td>\n",
       "    </tr>\n",
       "    <tr>\n",
       "      <th>2219</th>\n",
       "      <td>0.000</td>\n",
       "      <td>1.000</td>\n",
       "    </tr>\n",
       "  </tbody>\n",
       "</table>\n",
       "<p>2220 rows × 2 columns</p>\n",
       "</div>"
      ],
      "text/plain": [
       "         GC     AT\n",
       "0     0.000  1.000\n",
       "1     0.000  1.000\n",
       "2     1.000  0.000\n",
       "3     1.000  0.000\n",
       "4     0.875  0.125\n",
       "...     ...    ...\n",
       "2215  0.000  1.000\n",
       "2216  1.000  0.000\n",
       "2217  0.000  1.000\n",
       "2218  0.000  1.000\n",
       "2219  0.000  1.000\n",
       "\n",
       "[2220 rows x 2 columns]"
      ]
     },
     "execution_count": 147,
     "metadata": {},
     "output_type": "execute_result"
    }
   ],
   "source": [
    "clus3_df"
   ]
  },
  {
   "cell_type": "markdown",
   "metadata": {},
   "source": [
    "## 3.2\n",
    "\n",
    "Using the cluster specific dataframes you built, make the specified bar plots (three total plots total), using only the first 50 positions."
   ]
  },
  {
   "cell_type": "code",
   "execution_count": 161,
   "metadata": {},
   "outputs": [
    {
     "data": {
      "text/plain": [
       "<AxesSubplot:title={'center':'Cluster 3'}>"
      ]
     },
     "execution_count": 161,
     "metadata": {},
     "output_type": "execute_result"
    },
    {
     "data": {
      "image/png": "[encoded data removed]",
      "text/plain": [
       "<Figure size 640x480 with 1 Axes>"
      ]
     },
     "metadata": {},
     "output_type": "display_data"
    },
    {
     "data": {
      "image/png": "[encoded data removed]",
      "text/plain": [
       "<Figure size 640x480 with 1 Axes>"
      ]
     },
     "metadata": {},
     "output_type": "display_data"
    },
    {
     "data": {
      "image/png": "[encoded data removed]",
      "text/plain": [
       "<Figure size 640x480 with 1 Axes>"
      ]
     },
     "metadata": {},
     "output_type": "display_data"
    }
   ],
   "source": [
    "# code here\n",
    "clus1_df.head(50).plot.bar(stacked=True, title='Cluster 1')\n",
    "clus2_df.head(50).plot.bar(stacked=True, title='Cluster 2')\n",
    "clus3_df.head(50).plot.bar(stacked=True, title='Cluster 3')"
   ]
  },
  {
   "attachments": {
    "Screen%20Shot%202021-08-25%20at%205.37.58%20PM.png": {
     "image/png": "[encoded data removed]"
    }
   },
   "cell_type": "markdown",
   "metadata": {},
   "source": [
    "## 3.3\n",
    "\n",
    "Next, find the length of each sequence in each \n",
    "cluster. Generate a box plot that shows the \n",
    "distribution of sequence lengths within each \n",
    "cluster. It will look something like this: \n",
    "\n",
    "![Screen%20Shot%202021-08-25%20at%205.37.58%20PM.png](attachment:Screen%20Shot%202021-08-25%20at%205.37.58%20PM.png)\n",
    "\n",
    "Consider using `SeqIO.to_dict` as part of your solution."
   ]
  },
  {
   "cell_type": "code",
   "execution_count": null,
   "metadata": {},
   "outputs": [],
   "source": [
    "# code here"
   ]
  },
  {
   "cell_type": "code",
   "execution_count": 169,
   "metadata": {},
   "outputs": [],
   "source": [
    "clusters = [cl1_alignment, cl2_alignment, cl3_alignment]\n",
    "lengths = [[], [], []]\n",
    "for (cluster, length) in zip(clusters, lengths):\n",
    "    for gene in cluster:\n",
    "        length += [len(gene.seq.replace(\"-\", \"\"))]"
   ]
  },
  {
   "cell_type": "code",
   "execution_count": 171,
   "metadata": {},
   "outputs": [
    {
     "data": {
      "text/plain": [
       "{'whiskers': [<matplotlib.lines.Line2D at 0x7ff8747483a0>,\n",
       "  <matplotlib.lines.Line2D at 0x7ff874748670>,\n",
       "  <matplotlib.lines.Line2D at 0x7ff8747727c0>,\n",
       "  <matplotlib.lines.Line2D at 0x7ff874772a90>,\n",
       "  <matplotlib.lines.Line2D at 0x7ff87484cbb0>,\n",
       "  <matplotlib.lines.Line2D at 0x7ff87484ce80>],\n",
       " 'caps': [<matplotlib.lines.Line2D at 0x7ff874748940>,\n",
       "  <matplotlib.lines.Line2D at 0x7ff874748c10>,\n",
       "  <matplotlib.lines.Line2D at 0x7ff874772d60>,\n",
       "  <matplotlib.lines.Line2D at 0x7ff87484c070>,\n",
       "  <matplotlib.lines.Line2D at 0x7ff874857190>,\n",
       "  <matplotlib.lines.Line2D at 0x7ff874857460>],\n",
       " 'boxes': [<matplotlib.lines.Line2D at 0x7ff8747480d0>,\n",
       "  <matplotlib.lines.Line2D at 0x7ff8747724f0>,\n",
       "  <matplotlib.lines.Line2D at 0x7ff87484c8e0>],\n",
       " 'medians': [<matplotlib.lines.Line2D at 0x7ff874748ee0>,\n",
       "  <matplotlib.lines.Line2D at 0x7ff87484c340>,\n",
       "  <matplotlib.lines.Line2D at 0x7ff874857730>],\n",
       " 'fliers': [<matplotlib.lines.Line2D at 0x7ff8747721f0>,\n",
       "  <matplotlib.lines.Line2D at 0x7ff87484c610>,\n",
       "  <matplotlib.lines.Line2D at 0x7ff874857a00>],\n",
       " 'means': []}"
      ]
     },
     "execution_count": 171,
     "metadata": {},
     "output_type": "execute_result"
    },
    {
     "data": {
      "image/png": "[encoded data removed]",
      "text/plain": [
       "<Figure size 640x480 with 1 Axes>"
      ]
     },
     "metadata": {},
     "output_type": "display_data"
    }
   ],
   "source": [
    "plt.boxplot(lengths)"
   ]
  },
  {
   "cell_type": "markdown",
   "metadata": {},
   "source": [
    "# Submission checklist"
   ]
  },
  {
   "cell_type": "markdown",
   "metadata": {},
   "source": [
    "1. Commit and push this notebook,\n",
    "1. No need to add/commit/push any other files\n",
    "1. Submit repo link on GitHub\n"
   ]
  }
 ],
 "metadata": {
  "kernelspec": {
   "display_name": "Python 3 (ipykernel)",
   "language": "python",
   "name": "python3"
  },
  "language_info": {
   "codemirror_mode": {
    "name": "ipython",
    "version": 3
   },
   "file_extension": ".py",
   "mimetype": "text/x-python",
   "name": "python",
   "nbconvert_exporter": "python",
   "pygments_lexer": "ipython3",
   "version": "3.9.13"
  }
 },
 "nbformat": 4,
 "nbformat_minor": 4
}
